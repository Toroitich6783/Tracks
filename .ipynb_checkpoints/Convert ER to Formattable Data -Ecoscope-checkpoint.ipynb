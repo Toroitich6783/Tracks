{
 "cells": [
  {
   "cell_type": "markdown",
   "id": "eb9966ab-fc2a-4f59-917d-9e6cadf77721",
   "metadata": {},
   "source": [
    "### Convert Formattable Data From Ecoscope"
   ]
  },
  {
   "cell_type": "code",
   "execution_count": 4,
   "id": "7f4823ec-8e10-475f-8388-d741284eecf6",
   "metadata": {},
   "outputs": [],
   "source": [
    "import pandas as pd\n",
    "import ast\n",
    "\n",
    "# Load the CSV file\n",
    "df = pd.read_csv(\"July_Oct_Mara_Cattles.csv\")\n",
    "\n",
    "# Parse the 'extra__location' field to extract longitude and latitude\n",
    "df['extra__location'] = df['extra__location'].apply(ast.literal_eval)\n",
    "\n",
    "# Extract longitude and latitude from the parsed dictionary\n",
    "df['longitude'] = df['extra__location'].apply(lambda loc: loc['longitude'])\n",
    "df['latitude'] = df['extra__location'].apply(lambda loc: loc['latitude'])\n",
    "\n",
    "# Convert latitude to float and ensure all latitude values are negative\n",
    "df['latitude'] = -df['latitude'].astype(float).abs()\n",
    "\n",
    "# Save the modified DataFrame to a new CSV\n",
    "df.to_csv('July_Oct_Mara_Cattles_edited.csv', index=False)\n",
    "\n",
    "# Display the DataFrame to confirm changes\n",
    "# print(df)\n"
   ]
  },
  {
   "cell_type": "markdown",
   "id": "985a6af2-489d-4d33-98d2-cd79b34d249f",
   "metadata": {},
   "source": [
    "#### Data from ER directly "
   ]
  },
  {
   "cell_type": "code",
   "execution_count": 1,
   "id": "a3ac4996-8c69-4e4f-9cee-3a08f4af58af",
   "metadata": {},
   "outputs": [
    {
     "name": "stderr",
     "output_type": "stream",
     "text": [
      "C:\\Users\\hp\\miniconda3\\envs\\lucacode\\lib\\site-packages\\pandas\\core\\computation\\expressions.py:21: UserWarning: Pandas requires version '2.8.4' or newer of 'numexpr' (version '2.7.3' currently installed).\n",
      "  from pandas.core.computation.check import NUMEXPR_INSTALLED\n"
     ]
    }
   ],
   "source": [
    "import pandas as pd\n",
    "\n",
    "# Load the CSV file\n",
    "df = pd.read_csv(\"Mara_Cattle_Tagged.csv\")\n",
    "\n",
    "# Extract longitude and latitude from the 'location' column\n",
    "# Assuming the format in 'location' is \"POINT (longitude latitude)\"\n",
    "df['longitude'] = df['extra__location'].str.extract(r'POINT \\(([-\\d.]+)')\n",
    "df['latitude'] = df['extra__location'].str.extract(r'POINT \\([-.\\d]+ ([-\\d.]+)\\)')\n",
    "\n",
    "# Convert latitude to float and ensure all latitude values are negative\n",
    "df['latitude'] = -df['latitude'].astype(float).abs()\n",
    "\n",
    "# Save the modified DataFrame to a new CSV\n",
    "df.to_csv('2207B1963_edited.csv', index=False)\n",
    "# df"
   ]
  },
  {
   "cell_type": "code",
   "execution_count": 9,
   "id": "e0dbcc34-a879-48c0-8c48-c26c2c22264b",
   "metadata": {},
   "outputs": [
    {
     "data": {
      "text/plain": [
       "Index(['id', 'extra__id', 'extra__location', 'extra__recorded_at',\n",
       "       'extra__created_at', 'extra__exclusion_flags', 'extra__das_tenant_id',\n",
       "       'extra__source', 'extra__subject_id', 'geometry',\n",
       "       'extra__subject__content_type', 'extra__subject__id',\n",
       "       'extra__subject__name', 'extra__subject__subject_type',\n",
       "       'extra__subject__subject_subtype', 'extra__subject__common_name',\n",
       "       'extra__subject__additional', 'extra__subject__created_at',\n",
       "       'extra__subject__updated_at', 'extra__subject__is_active',\n",
       "       'extra__subject__user', 'extra__subject__region',\n",
       "       'extra__subject__country', 'extra__subject__sex',\n",
       "       'extra__subject__tracks_available', 'extra__subject__image_url',\n",
       "       'extra__subject__last_position_status',\n",
       "       'extra__subject__last_position_date', 'extra__subject__last_position',\n",
       "       'extra__subject__device_status_properties', 'extra__subject__url',\n",
       "       'extra__subject__hex', 'groupby_col', 'fixtime', 'junk_status',\n",
       "       'longitude', 'latitude'],\n",
       "      dtype='object')"
      ]
     },
     "execution_count": 9,
     "metadata": {},
     "output_type": "execute_result"
    }
   ],
   "source": [
    "import pandas as pd\n",
    "All_lions = pd.read_csv(\"ALL_Cheetah_Edited.csv\")\n",
    "All_lions.columns"
   ]
  },
  {
   "cell_type": "code",
   "execution_count": 2,
   "id": "8f3a2656-134e-4e28-ac77-88ec7403c119",
   "metadata": {},
   "outputs": [
    {
     "data": {
      "text/plain": [
       "array(['98657_Naserian', '98655_Nashipai', '42557_Namunyak', '98653_Kito',\n",
       "       '98656_Jua', '98659_Samara', '98652_Normoti', '98658_Nailois',\n",
       "       '42560_Orkuret', '98654_Napono', '42562_Osopia'], dtype=object)"
      ]
     },
     "execution_count": 2,
     "metadata": {},
     "output_type": "execute_result"
    }
   ],
   "source": [
    "All_lions = pd.read_csv(\"July_Oct_KWTLions_edited.csv\")\n",
    "All_lions[\"extra__subject__name\"].unique()"
   ]
  },
  {
   "cell_type": "code",
   "execution_count": 5,
   "id": "5f55cb03-7ad7-4bf4-8fc1-6fd2dd4a9a90",
   "metadata": {},
   "outputs": [
    {
     "data": {
      "text/plain": [
       "array(['2207B1977', '2207B1821', '2207B1388', '2207B1774', '2207B1790',\n",
       "       '2205B0207', '2205B0408', '2205B0205', '2207B1507', '2205B0113',\n",
       "       '2205B0204', '2205B0011', '2207B1966', '2207B1411', '2205B0256',\n",
       "       '2205B0303', '2205B0371', '2207B1531', '2207B1963', '2207B1995',\n",
       "       '2205B0387', '2205B0312', '2205B0163', '2207B1664', '2205B0323',\n",
       "       '2207B1441', '2207B1417', '2207B1826', '2207B1514', '2207B1961',\n",
       "       '2205B0327', '2207B1802', '2207B1803', '2207B1804', '2207B1506',\n",
       "       '2205B0123', '2207B1828', '2205B0326', '2207B1557', '2207B1412',\n",
       "       '2207B1423', '2205B0317', '2205B0314', '2205B0302', '2207B1991',\n",
       "       '2207B1801', '2207B1558', '2207B1831', 'Asset 39 036051423',\n",
       "       'Asset 29 033598566', 'Asset 3 034652164', 'Asset 32 033572967',\n",
       "       'Asset 22 033636325', 'Asset 37 033559865', 'Asset 26 036049880',\n",
       "       'Asset 2 033461922', 'Asset 8 033549700', 'Asset 34 033596487',\n",
       "       'Asset 17 034654921', 'Asset 6 033559881', 'Asset 11 033574781',\n",
       "       'Asset 38 033641788', 'Asset 12 033580465', 'Asset 16 036007524',\n",
       "       'Asset 5 033637927', 'Asset 7 033459967', 'Asset 31 036025542',\n",
       "       'Asset 4 036045847', 'Asset 28 036026102', 'Asset 33 036048668',\n",
       "       'Asset 25 033551003', 'Asset 21 036038842', 'Asset 10 033577800',\n",
       "       'Asset 35 033548827', 'Asset 18 033561267', 'Asset 24 036050227',\n",
       "       'Asset 27 033559741', 'Asset 40 033568502', 'Asset 13 033597782',\n",
       "       'Asset 1 036047108', 'Asset 15 033466244', 'Asset 20 033566746',\n",
       "       'Asset 19 033597980', 'Asset 36 033571928', 'Asset 23 033559626',\n",
       "       'Asset 14 033458589', 'Asset 30 036031003', 'Asset 9 033557323'],\n",
       "      dtype=object)"
      ]
     },
     "execution_count": 5,
     "metadata": {},
     "output_type": "execute_result"
    }
   ],
   "source": [
    "All_mara_cattles = pd.read_csv(\"July_Oct_Mara_Cattles_edited.csv\")\n",
    "All_mara_cattles[\"extra__subject__name\"].unique()"
   ]
  },
  {
   "cell_type": "code",
   "execution_count": 15,
   "id": "bb6763a2-5ab1-4a95-bb89-cf7d1d2d4d4a",
   "metadata": {},
   "outputs": [],
   "source": [
    "Subject_1one=All_mara_cattles.loc[All_mara_cattles['extra__subject__name'] == \"2205B0011\"]\n",
    "Subject_1one.to_csv(\"2205B0011.csv\")"
   ]
  },
  {
   "cell_type": "code",
   "execution_count": 11,
   "id": "338f3a97-cb81-44ec-809e-bb0d637c46fd",
   "metadata": {},
   "outputs": [],
   "source": [
    "Kayioni=All_lions.loc[All_lions['extra__subject__name'] == \"84793_Kayioni\"]\n",
    "Kayioni.to_csv(\"84793_Kayioni.csv\")"
   ]
  },
  {
   "cell_type": "code",
   "execution_count": 4,
   "id": "c942bd7a-d0cd-49b7-adc3-7dc266db07c4",
   "metadata": {},
   "outputs": [],
   "source": [
    "Nashipai=All_lions.loc[All_lions['extra__subject__name'] == \"98655_Nashipai\"]\n",
    "Nashipai.to_csv(\"98655_Nashipai.csv\")"
   ]
  },
  {
   "cell_type": "code",
   "execution_count": 29,
   "id": "29fb1a26-95e9-466f-a5d2-577a28b7cb23",
   "metadata": {},
   "outputs": [],
   "source": [
    "Samara=All_lions.loc[All_lions['extra__subject__name'] == \"98659_Samara\"]\n",
    "Samara.to_csv(\"98659_Samara.csv\")"
   ]
  },
  {
   "cell_type": "code",
   "execution_count": 3,
   "id": "cd62d7f3-6ebf-4827-a770-31005cb03e8c",
   "metadata": {},
   "outputs": [],
   "source": [
    "Namunyak=All_lions.loc[All_lions['extra__subject__name'] == \"42557_Namunyak\"]\n",
    "Namunyak.to_csv(\"42557_Namunyak.csv\")"
   ]
  },
  {
   "cell_type": "code",
   "execution_count": 31,
   "id": "72408607-5c1f-447d-aace-1e6cf9eabc13",
   "metadata": {},
   "outputs": [],
   "source": [
    "Normoti=All_lions.loc[All_lions['extra__subject__name'] == \"98652_Normoti\"]\n",
    "Normoti.to_csv(\"98652_Normoti.csv\")"
   ]
  },
  {
   "cell_type": "code",
   "execution_count": 32,
   "id": "d018f324-034a-4f87-87b0-fb3282605bf3",
   "metadata": {},
   "outputs": [],
   "source": [
    "jua=All_lions.loc[All_lions['extra__subject__name'] == \"98656_Jua\"]\n",
    "jua.to_csv(\"98656_Jua.csv\")"
   ]
  },
  {
   "cell_type": "code",
   "execution_count": 33,
   "id": "c1174d06-de97-4556-b684-45ee1749286c",
   "metadata": {},
   "outputs": [],
   "source": [
    "kito=All_lions.loc[All_lions['extra__subject__name'] == \"98653_Kito\"]\n",
    "kito.to_csv(\"98653_Kito.csv\")"
   ]
  },
  {
   "cell_type": "code",
   "execution_count": 34,
   "id": "bbd7b1f0-9c08-45d9-8278-e9660c22eea8",
   "metadata": {},
   "outputs": [],
   "source": [
    "Naserian=All_lions.loc[All_lions['extra__subject__name'] == \"98657_Naserian\"]\n",
    "Naserian.to_csv(\"98657_Naserian.csv\")"
   ]
  },
  {
   "cell_type": "code",
   "execution_count": 35,
   "id": "7c225a59-b8b7-42ba-b2bd-c2e9e2c092b6",
   "metadata": {},
   "outputs": [],
   "source": [
    "Nailois=All_lions.loc[All_lions['extra__subject__name'] == \"98658_Nailois\"]\n",
    "Nailois.to_csv(\"98658_Nailois.csv\")"
   ]
  },
  {
   "cell_type": "code",
   "execution_count": 36,
   "id": "37cb60f6-b2b9-4250-b83a-ec005c1ae512",
   "metadata": {},
   "outputs": [],
   "source": [
    "Orkuret=All_lions.loc[All_lions['extra__subject__name'] == \"42560_Orkuret\"]\n",
    "Orkuret.to_csv(\"42560_Orkuret.csv\")"
   ]
  },
  {
   "cell_type": "code",
   "execution_count": 37,
   "id": "d8cba20f-72cf-4f5d-a0b0-1b2bcb5f3305",
   "metadata": {},
   "outputs": [],
   "source": [
    "Napono=All_lions.loc[All_lions['extra__subject__name'] == \"98654_Napono\"]\n",
    "Napono.to_csv(\"98654_Napono.csv\")"
   ]
  },
  {
   "cell_type": "code",
   "execution_count": 7,
   "id": "6b46f4b3-005b-43c8-970b-26f05ed04492",
   "metadata": {},
   "outputs": [],
   "source": [
    "Osopia=All_lions.loc[All_lions['extra__subject__name'] == \"42562_Osopia\"]\n",
    "Osopia.to_csv(\"42562_Osopia.csv\")"
   ]
  },
  {
   "cell_type": "code",
   "execution_count": null,
   "id": "c9186d76-8db5-4c47-8edf-b90d2aefba5a",
   "metadata": {},
   "outputs": [],
   "source": []
  }
 ],
 "metadata": {
  "kernelspec": {
   "display_name": "Python 3 (ipykernel)",
   "language": "python",
   "name": "python3"
  },
  "language_info": {
   "codemirror_mode": {
    "name": "ipython",
    "version": 3
   },
   "file_extension": ".py",
   "mimetype": "text/x-python",
   "name": "python",
   "nbconvert_exporter": "python",
   "pygments_lexer": "ipython3",
   "version": "3.10.14"
  }
 },
 "nbformat": 4,
 "nbformat_minor": 5
}
